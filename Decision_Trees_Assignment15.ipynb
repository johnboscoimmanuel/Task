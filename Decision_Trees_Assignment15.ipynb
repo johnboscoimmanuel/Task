{
  "nbformat": 4,
  "nbformat_minor": 0,
  "metadata": {
    "colab": {
      "name": "Decision_Trees_Assignment15.ipynb",
      "provenance": [],
      "include_colab_link": true
    },
    "kernelspec": {
      "name": "python3",
      "display_name": "Python 3"
    },
    "language_info": {
      "name": "python"
    }
  },
  "cells": [
    {
      "cell_type": "markdown",
      "metadata": {
        "id": "view-in-github",
        "colab_type": "text"
      },
      "source": [
        "<a href=\"https://colab.research.google.com/github/johnboscoimmanuel/Task/blob/main/Decision_Trees_Assignment15.ipynb\" target=\"_parent\"><img src=\"https://colab.research.google.com/assets/colab-badge.svg\" alt=\"Open In Colab\"/></a>"
      ]
    },
    {
      "cell_type": "code",
      "metadata": {
        "id": "eqp7Q6rWnX20"
      },
      "source": [
        "#Social_Network_Ads.csv"
      ],
      "execution_count": null,
      "outputs": []
    },
    {
      "cell_type": "markdown",
      "metadata": {
        "id": "1jSlqZcZnmrD"
      },
      "source": [
        "**Importing the libraries**"
      ]
    },
    {
      "cell_type": "code",
      "metadata": {
        "id": "ACJTKMfInp-E"
      },
      "source": [
        "import numpy as np\n",
        "import pandas as pd\n",
        "import matplotlib.pyplot as plt\n",
        "import seaborn as sns\n",
        "from sklearn.preprocessing import StandardScaler\n",
        "from sklearn.model_selection import train_test_split\n",
        "from sklearn.tree import DecisionTreeClassifier\n",
        "from sklearn.metrics import accuracy_score,classification_report,confusion_matrix,roc_auc_score"
      ],
      "execution_count": 46,
      "outputs": []
    },
    {
      "cell_type": "markdown",
      "metadata": {
        "id": "fRZkaj-dnxIj"
      },
      "source": [
        "**Importing the dataset**"
      ]
    },
    {
      "cell_type": "code",
      "metadata": {
        "id": "SfTR4mVDnqBV",
        "colab": {
          "base_uri": "https://localhost:8080/",
          "height": 206
        },
        "outputId": "e7ee4bf1-f6b0-4a04-ca73-378d9e1fbf8c"
      },
      "source": [
        "df=pd.read_csv('/content/Social_Network_Ads.csv')\n",
        "df.head()"
      ],
      "execution_count": 47,
      "outputs": [
        {
          "output_type": "execute_result",
          "data": {
            "text/plain": [
              "    User ID  Gender  Age  EstimatedSalary  Purchased\n",
              "0  15624510    Male   19            19000          0\n",
              "1  15810944    Male   35            20000          0\n",
              "2  15668575  Female   26            43000          0\n",
              "3  15603246  Female   27            57000          0\n",
              "4  15804002    Male   19            76000          0"
            ],
            "text/html": [
              "\n",
              "  <div id=\"df-1951f841-ee8a-42c5-931a-66e5679bac7a\">\n",
              "    <div class=\"colab-df-container\">\n",
              "      <div>\n",
              "<style scoped>\n",
              "    .dataframe tbody tr th:only-of-type {\n",
              "        vertical-align: middle;\n",
              "    }\n",
              "\n",
              "    .dataframe tbody tr th {\n",
              "        vertical-align: top;\n",
              "    }\n",
              "\n",
              "    .dataframe thead th {\n",
              "        text-align: right;\n",
              "    }\n",
              "</style>\n",
              "<table border=\"1\" class=\"dataframe\">\n",
              "  <thead>\n",
              "    <tr style=\"text-align: right;\">\n",
              "      <th></th>\n",
              "      <th>User ID</th>\n",
              "      <th>Gender</th>\n",
              "      <th>Age</th>\n",
              "      <th>EstimatedSalary</th>\n",
              "      <th>Purchased</th>\n",
              "    </tr>\n",
              "  </thead>\n",
              "  <tbody>\n",
              "    <tr>\n",
              "      <th>0</th>\n",
              "      <td>15624510</td>\n",
              "      <td>Male</td>\n",
              "      <td>19</td>\n",
              "      <td>19000</td>\n",
              "      <td>0</td>\n",
              "    </tr>\n",
              "    <tr>\n",
              "      <th>1</th>\n",
              "      <td>15810944</td>\n",
              "      <td>Male</td>\n",
              "      <td>35</td>\n",
              "      <td>20000</td>\n",
              "      <td>0</td>\n",
              "    </tr>\n",
              "    <tr>\n",
              "      <th>2</th>\n",
              "      <td>15668575</td>\n",
              "      <td>Female</td>\n",
              "      <td>26</td>\n",
              "      <td>43000</td>\n",
              "      <td>0</td>\n",
              "    </tr>\n",
              "    <tr>\n",
              "      <th>3</th>\n",
              "      <td>15603246</td>\n",
              "      <td>Female</td>\n",
              "      <td>27</td>\n",
              "      <td>57000</td>\n",
              "      <td>0</td>\n",
              "    </tr>\n",
              "    <tr>\n",
              "      <th>4</th>\n",
              "      <td>15804002</td>\n",
              "      <td>Male</td>\n",
              "      <td>19</td>\n",
              "      <td>76000</td>\n",
              "      <td>0</td>\n",
              "    </tr>\n",
              "  </tbody>\n",
              "</table>\n",
              "</div>\n",
              "      <button class=\"colab-df-convert\" onclick=\"convertToInteractive('df-1951f841-ee8a-42c5-931a-66e5679bac7a')\"\n",
              "              title=\"Convert this dataframe to an interactive table.\"\n",
              "              style=\"display:none;\">\n",
              "        \n",
              "  <svg xmlns=\"http://www.w3.org/2000/svg\" height=\"24px\"viewBox=\"0 0 24 24\"\n",
              "       width=\"24px\">\n",
              "    <path d=\"M0 0h24v24H0V0z\" fill=\"none\"/>\n",
              "    <path d=\"M18.56 5.44l.94 2.06.94-2.06 2.06-.94-2.06-.94-.94-2.06-.94 2.06-2.06.94zm-11 1L8.5 8.5l.94-2.06 2.06-.94-2.06-.94L8.5 2.5l-.94 2.06-2.06.94zm10 10l.94 2.06.94-2.06 2.06-.94-2.06-.94-.94-2.06-.94 2.06-2.06.94z\"/><path d=\"M17.41 7.96l-1.37-1.37c-.4-.4-.92-.59-1.43-.59-.52 0-1.04.2-1.43.59L10.3 9.45l-7.72 7.72c-.78.78-.78 2.05 0 2.83L4 21.41c.39.39.9.59 1.41.59.51 0 1.02-.2 1.41-.59l7.78-7.78 2.81-2.81c.8-.78.8-2.07 0-2.86zM5.41 20L4 18.59l7.72-7.72 1.47 1.35L5.41 20z\"/>\n",
              "  </svg>\n",
              "      </button>\n",
              "      \n",
              "  <style>\n",
              "    .colab-df-container {\n",
              "      display:flex;\n",
              "      flex-wrap:wrap;\n",
              "      gap: 12px;\n",
              "    }\n",
              "\n",
              "    .colab-df-convert {\n",
              "      background-color: #E8F0FE;\n",
              "      border: none;\n",
              "      border-radius: 50%;\n",
              "      cursor: pointer;\n",
              "      display: none;\n",
              "      fill: #1967D2;\n",
              "      height: 32px;\n",
              "      padding: 0 0 0 0;\n",
              "      width: 32px;\n",
              "    }\n",
              "\n",
              "    .colab-df-convert:hover {\n",
              "      background-color: #E2EBFA;\n",
              "      box-shadow: 0px 1px 2px rgba(60, 64, 67, 0.3), 0px 1px 3px 1px rgba(60, 64, 67, 0.15);\n",
              "      fill: #174EA6;\n",
              "    }\n",
              "\n",
              "    [theme=dark] .colab-df-convert {\n",
              "      background-color: #3B4455;\n",
              "      fill: #D2E3FC;\n",
              "    }\n",
              "\n",
              "    [theme=dark] .colab-df-convert:hover {\n",
              "      background-color: #434B5C;\n",
              "      box-shadow: 0px 1px 3px 1px rgba(0, 0, 0, 0.15);\n",
              "      filter: drop-shadow(0px 1px 2px rgba(0, 0, 0, 0.3));\n",
              "      fill: #FFFFFF;\n",
              "    }\n",
              "  </style>\n",
              "\n",
              "      <script>\n",
              "        const buttonEl =\n",
              "          document.querySelector('#df-1951f841-ee8a-42c5-931a-66e5679bac7a button.colab-df-convert');\n",
              "        buttonEl.style.display =\n",
              "          google.colab.kernel.accessAllowed ? 'block' : 'none';\n",
              "\n",
              "        async function convertToInteractive(key) {\n",
              "          const element = document.querySelector('#df-1951f841-ee8a-42c5-931a-66e5679bac7a');\n",
              "          const dataTable =\n",
              "            await google.colab.kernel.invokeFunction('convertToInteractive',\n",
              "                                                     [key], {});\n",
              "          if (!dataTable) return;\n",
              "\n",
              "          const docLinkHtml = 'Like what you see? Visit the ' +\n",
              "            '<a target=\"_blank\" href=https://colab.research.google.com/notebooks/data_table.ipynb>data table notebook</a>'\n",
              "            + ' to learn more about interactive tables.';\n",
              "          element.innerHTML = '';\n",
              "          dataTable['output_type'] = 'display_data';\n",
              "          await google.colab.output.renderOutput(dataTable, element);\n",
              "          const docLink = document.createElement('div');\n",
              "          docLink.innerHTML = docLinkHtml;\n",
              "          element.appendChild(docLink);\n",
              "        }\n",
              "      </script>\n",
              "    </div>\n",
              "  </div>\n",
              "  "
            ]
          },
          "metadata": {},
          "execution_count": 47
        }
      ]
    },
    {
      "cell_type": "code",
      "source": [
        "df.shape"
      ],
      "metadata": {
        "colab": {
          "base_uri": "https://localhost:8080/"
        },
        "id": "6HY19Zvnl2pH",
        "outputId": "ad205f90-52ac-455c-cfa5-be2fd1a3bd60"
      },
      "execution_count": 48,
      "outputs": [
        {
          "output_type": "execute_result",
          "data": {
            "text/plain": [
              "(400, 5)"
            ]
          },
          "metadata": {},
          "execution_count": 48
        }
      ]
    },
    {
      "cell_type": "code",
      "source": [
        "df.info()"
      ],
      "metadata": {
        "colab": {
          "base_uri": "https://localhost:8080/"
        },
        "id": "DmHNXxwwl2gR",
        "outputId": "930c9baa-e8e9-49a0-9c79-c222ad3def74"
      },
      "execution_count": 49,
      "outputs": [
        {
          "output_type": "stream",
          "name": "stdout",
          "text": [
            "<class 'pandas.core.frame.DataFrame'>\n",
            "RangeIndex: 400 entries, 0 to 399\n",
            "Data columns (total 5 columns):\n",
            " #   Column           Non-Null Count  Dtype \n",
            "---  ------           --------------  ----- \n",
            " 0   User ID          400 non-null    int64 \n",
            " 1   Gender           400 non-null    object\n",
            " 2   Age              400 non-null    int64 \n",
            " 3   EstimatedSalary  400 non-null    int64 \n",
            " 4   Purchased        400 non-null    int64 \n",
            "dtypes: int64(4), object(1)\n",
            "memory usage: 15.8+ KB\n"
          ]
        }
      ]
    },
    {
      "cell_type": "code",
      "source": [
        "df.isnull().sum()"
      ],
      "metadata": {
        "colab": {
          "base_uri": "https://localhost:8080/"
        },
        "id": "rA4sedxil-QB",
        "outputId": "e9d502df-ed84-44e8-d8a3-59b4c64d7d62"
      },
      "execution_count": 50,
      "outputs": [
        {
          "output_type": "execute_result",
          "data": {
            "text/plain": [
              "User ID            0\n",
              "Gender             0\n",
              "Age                0\n",
              "EstimatedSalary    0\n",
              "Purchased          0\n",
              "dtype: int64"
            ]
          },
          "metadata": {},
          "execution_count": 50
        }
      ]
    },
    {
      "cell_type": "code",
      "source": [
        "df.duplicated().sum()"
      ],
      "metadata": {
        "colab": {
          "base_uri": "https://localhost:8080/"
        },
        "id": "txVwOD-CmIEK",
        "outputId": "81bead5f-6b3e-4850-8d8f-33a09c599fcc"
      },
      "execution_count": 51,
      "outputs": [
        {
          "output_type": "execute_result",
          "data": {
            "text/plain": [
              "0"
            ]
          },
          "metadata": {},
          "execution_count": 51
        }
      ]
    },
    {
      "cell_type": "code",
      "source": [
        "df['Gender']=df['Gender'].map({'Male':0,'Female':1})\n"
      ],
      "metadata": {
        "id": "eMpStdS-mUTu"
      },
      "execution_count": 52,
      "outputs": []
    },
    {
      "cell_type": "code",
      "source": [
        "df['Purchased'].value_counts()"
      ],
      "metadata": {
        "colab": {
          "base_uri": "https://localhost:8080/"
        },
        "id": "pS3FqRO1mo1f",
        "outputId": "991a395d-c733-4006-86d7-a127a8a39022"
      },
      "execution_count": 53,
      "outputs": [
        {
          "output_type": "execute_result",
          "data": {
            "text/plain": [
              "0    257\n",
              "1    143\n",
              "Name: Purchased, dtype: int64"
            ]
          },
          "metadata": {},
          "execution_count": 53
        }
      ]
    },
    {
      "cell_type": "code",
      "source": [
        "df.describe()"
      ],
      "metadata": {
        "colab": {
          "base_uri": "https://localhost:8080/",
          "height": 300
        },
        "id": "RHHETCcdmox-",
        "outputId": "8ba82387-7f64-4ddd-e73d-d8a37e2f7a11"
      },
      "execution_count": 54,
      "outputs": [
        {
          "output_type": "execute_result",
          "data": {
            "text/plain": [
              "            User ID      Gender         Age  EstimatedSalary   Purchased\n",
              "count  4.000000e+02  400.000000  400.000000       400.000000  400.000000\n",
              "mean   1.569154e+07    0.510000   37.655000     69742.500000    0.357500\n",
              "std    7.165832e+04    0.500526   10.482877     34096.960282    0.479864\n",
              "min    1.556669e+07    0.000000   18.000000     15000.000000    0.000000\n",
              "25%    1.562676e+07    0.000000   29.750000     43000.000000    0.000000\n",
              "50%    1.569434e+07    1.000000   37.000000     70000.000000    0.000000\n",
              "75%    1.575036e+07    1.000000   46.000000     88000.000000    1.000000\n",
              "max    1.581524e+07    1.000000   60.000000    150000.000000    1.000000"
            ],
            "text/html": [
              "\n",
              "  <div id=\"df-e77021b5-d0ba-4d1e-8d0c-5407710e8eb2\">\n",
              "    <div class=\"colab-df-container\">\n",
              "      <div>\n",
              "<style scoped>\n",
              "    .dataframe tbody tr th:only-of-type {\n",
              "        vertical-align: middle;\n",
              "    }\n",
              "\n",
              "    .dataframe tbody tr th {\n",
              "        vertical-align: top;\n",
              "    }\n",
              "\n",
              "    .dataframe thead th {\n",
              "        text-align: right;\n",
              "    }\n",
              "</style>\n",
              "<table border=\"1\" class=\"dataframe\">\n",
              "  <thead>\n",
              "    <tr style=\"text-align: right;\">\n",
              "      <th></th>\n",
              "      <th>User ID</th>\n",
              "      <th>Gender</th>\n",
              "      <th>Age</th>\n",
              "      <th>EstimatedSalary</th>\n",
              "      <th>Purchased</th>\n",
              "    </tr>\n",
              "  </thead>\n",
              "  <tbody>\n",
              "    <tr>\n",
              "      <th>count</th>\n",
              "      <td>4.000000e+02</td>\n",
              "      <td>400.000000</td>\n",
              "      <td>400.000000</td>\n",
              "      <td>400.000000</td>\n",
              "      <td>400.000000</td>\n",
              "    </tr>\n",
              "    <tr>\n",
              "      <th>mean</th>\n",
              "      <td>1.569154e+07</td>\n",
              "      <td>0.510000</td>\n",
              "      <td>37.655000</td>\n",
              "      <td>69742.500000</td>\n",
              "      <td>0.357500</td>\n",
              "    </tr>\n",
              "    <tr>\n",
              "      <th>std</th>\n",
              "      <td>7.165832e+04</td>\n",
              "      <td>0.500526</td>\n",
              "      <td>10.482877</td>\n",
              "      <td>34096.960282</td>\n",
              "      <td>0.479864</td>\n",
              "    </tr>\n",
              "    <tr>\n",
              "      <th>min</th>\n",
              "      <td>1.556669e+07</td>\n",
              "      <td>0.000000</td>\n",
              "      <td>18.000000</td>\n",
              "      <td>15000.000000</td>\n",
              "      <td>0.000000</td>\n",
              "    </tr>\n",
              "    <tr>\n",
              "      <th>25%</th>\n",
              "      <td>1.562676e+07</td>\n",
              "      <td>0.000000</td>\n",
              "      <td>29.750000</td>\n",
              "      <td>43000.000000</td>\n",
              "      <td>0.000000</td>\n",
              "    </tr>\n",
              "    <tr>\n",
              "      <th>50%</th>\n",
              "      <td>1.569434e+07</td>\n",
              "      <td>1.000000</td>\n",
              "      <td>37.000000</td>\n",
              "      <td>70000.000000</td>\n",
              "      <td>0.000000</td>\n",
              "    </tr>\n",
              "    <tr>\n",
              "      <th>75%</th>\n",
              "      <td>1.575036e+07</td>\n",
              "      <td>1.000000</td>\n",
              "      <td>46.000000</td>\n",
              "      <td>88000.000000</td>\n",
              "      <td>1.000000</td>\n",
              "    </tr>\n",
              "    <tr>\n",
              "      <th>max</th>\n",
              "      <td>1.581524e+07</td>\n",
              "      <td>1.000000</td>\n",
              "      <td>60.000000</td>\n",
              "      <td>150000.000000</td>\n",
              "      <td>1.000000</td>\n",
              "    </tr>\n",
              "  </tbody>\n",
              "</table>\n",
              "</div>\n",
              "      <button class=\"colab-df-convert\" onclick=\"convertToInteractive('df-e77021b5-d0ba-4d1e-8d0c-5407710e8eb2')\"\n",
              "              title=\"Convert this dataframe to an interactive table.\"\n",
              "              style=\"display:none;\">\n",
              "        \n",
              "  <svg xmlns=\"http://www.w3.org/2000/svg\" height=\"24px\"viewBox=\"0 0 24 24\"\n",
              "       width=\"24px\">\n",
              "    <path d=\"M0 0h24v24H0V0z\" fill=\"none\"/>\n",
              "    <path d=\"M18.56 5.44l.94 2.06.94-2.06 2.06-.94-2.06-.94-.94-2.06-.94 2.06-2.06.94zm-11 1L8.5 8.5l.94-2.06 2.06-.94-2.06-.94L8.5 2.5l-.94 2.06-2.06.94zm10 10l.94 2.06.94-2.06 2.06-.94-2.06-.94-.94-2.06-.94 2.06-2.06.94z\"/><path d=\"M17.41 7.96l-1.37-1.37c-.4-.4-.92-.59-1.43-.59-.52 0-1.04.2-1.43.59L10.3 9.45l-7.72 7.72c-.78.78-.78 2.05 0 2.83L4 21.41c.39.39.9.59 1.41.59.51 0 1.02-.2 1.41-.59l7.78-7.78 2.81-2.81c.8-.78.8-2.07 0-2.86zM5.41 20L4 18.59l7.72-7.72 1.47 1.35L5.41 20z\"/>\n",
              "  </svg>\n",
              "      </button>\n",
              "      \n",
              "  <style>\n",
              "    .colab-df-container {\n",
              "      display:flex;\n",
              "      flex-wrap:wrap;\n",
              "      gap: 12px;\n",
              "    }\n",
              "\n",
              "    .colab-df-convert {\n",
              "      background-color: #E8F0FE;\n",
              "      border: none;\n",
              "      border-radius: 50%;\n",
              "      cursor: pointer;\n",
              "      display: none;\n",
              "      fill: #1967D2;\n",
              "      height: 32px;\n",
              "      padding: 0 0 0 0;\n",
              "      width: 32px;\n",
              "    }\n",
              "\n",
              "    .colab-df-convert:hover {\n",
              "      background-color: #E2EBFA;\n",
              "      box-shadow: 0px 1px 2px rgba(60, 64, 67, 0.3), 0px 1px 3px 1px rgba(60, 64, 67, 0.15);\n",
              "      fill: #174EA6;\n",
              "    }\n",
              "\n",
              "    [theme=dark] .colab-df-convert {\n",
              "      background-color: #3B4455;\n",
              "      fill: #D2E3FC;\n",
              "    }\n",
              "\n",
              "    [theme=dark] .colab-df-convert:hover {\n",
              "      background-color: #434B5C;\n",
              "      box-shadow: 0px 1px 3px 1px rgba(0, 0, 0, 0.15);\n",
              "      filter: drop-shadow(0px 1px 2px rgba(0, 0, 0, 0.3));\n",
              "      fill: #FFFFFF;\n",
              "    }\n",
              "  </style>\n",
              "\n",
              "      <script>\n",
              "        const buttonEl =\n",
              "          document.querySelector('#df-e77021b5-d0ba-4d1e-8d0c-5407710e8eb2 button.colab-df-convert');\n",
              "        buttonEl.style.display =\n",
              "          google.colab.kernel.accessAllowed ? 'block' : 'none';\n",
              "\n",
              "        async function convertToInteractive(key) {\n",
              "          const element = document.querySelector('#df-e77021b5-d0ba-4d1e-8d0c-5407710e8eb2');\n",
              "          const dataTable =\n",
              "            await google.colab.kernel.invokeFunction('convertToInteractive',\n",
              "                                                     [key], {});\n",
              "          if (!dataTable) return;\n",
              "\n",
              "          const docLinkHtml = 'Like what you see? Visit the ' +\n",
              "            '<a target=\"_blank\" href=https://colab.research.google.com/notebooks/data_table.ipynb>data table notebook</a>'\n",
              "            + ' to learn more about interactive tables.';\n",
              "          element.innerHTML = '';\n",
              "          dataTable['output_type'] = 'display_data';\n",
              "          await google.colab.output.renderOutput(dataTable, element);\n",
              "          const docLink = document.createElement('div');\n",
              "          docLink.innerHTML = docLinkHtml;\n",
              "          element.appendChild(docLink);\n",
              "        }\n",
              "      </script>\n",
              "    </div>\n",
              "  </div>\n",
              "  "
            ]
          },
          "metadata": {},
          "execution_count": 54
        }
      ]
    },
    {
      "cell_type": "code",
      "source": [
        "x=df.drop(columns=['User ID','Purchased','Gender'],axis=1)\n",
        "\n",
        "y=df['Purchased']"
      ],
      "metadata": {
        "id": "mEjE7dUrnG22"
      },
      "execution_count": 67,
      "outputs": []
    },
    {
      "cell_type": "markdown",
      "metadata": {
        "id": "9Thl3lvkn9Kr"
      },
      "source": [
        "**Splitting the dataset into the Training set and Test set**"
      ]
    },
    {
      "cell_type": "code",
      "metadata": {
        "id": "sp359H4XnqD3",
        "colab": {
          "base_uri": "https://localhost:8080/"
        },
        "outputId": "529098d6-c73a-45ce-a18e-1c64b5275fbb"
      },
      "source": [
        "x_train,x_test,y_train,y_test=train_test_split(x,y,test_size=0.2,random_state=2)\n",
        "\n",
        "print(x.shape,x_train.shape,x_test.shape)"
      ],
      "execution_count": 68,
      "outputs": [
        {
          "output_type": "stream",
          "name": "stdout",
          "text": [
            "(400, 2) (320, 2) (80, 2)\n"
          ]
        }
      ]
    },
    {
      "cell_type": "markdown",
      "metadata": {
        "id": "XNNxUncRoG6K"
      },
      "source": [
        "**Feature Scaling**"
      ]
    },
    {
      "cell_type": "code",
      "metadata": {
        "id": "loYjT47TnqIG",
        "colab": {
          "base_uri": "https://localhost:8080/"
        },
        "outputId": "610dad7f-ea38-4649-fd3a-eb92092d8940"
      },
      "source": [
        "scaler=StandardScaler()\n",
        "\n",
        "scaler.fit_transform(x_train,x_test)\n"
      ],
      "execution_count": 69,
      "outputs": [
        {
          "output_type": "execute_result",
          "data": {
            "text/plain": [
              "array([[ 0.88928823, -0.65924556],\n",
              "       [-0.17254846,  0.87392651],\n",
              "       [-1.04132394, -0.36440478],\n",
              "       [ 0.98581884,  0.6085698 ],\n",
              "       [-0.94479333,  0.57908572],\n",
              "       [ 0.40663519,  0.01888824],\n",
              "       [ 0.98581884,  2.11225779],\n",
              "       [ 0.31010458, -0.30543662],\n",
              "       [ 1.7580637 , -0.27595254],\n",
              "       [-0.17254846,  2.20071003],\n",
              "       [ 1.7580637 ,  1.0213469 ],\n",
              "       [-1.33091576, -1.48479975],\n",
              "       [ 2.04765553,  0.54960165],\n",
              "       [ 1.27541066,  1.90586924],\n",
              "       [-1.13785454,  0.31372902],\n",
              "       [-0.36560968, -0.77718187],\n",
              "       [-1.71703819,  0.49063349],\n",
              "       [-0.5586709 , -1.51428383],\n",
              "       [ 0.31010458, -0.71821372],\n",
              "       [ 0.02051275, -0.57079333],\n",
              "       [ 0.02051275,  0.04837232],\n",
              "       [-0.07601785, -0.51182517],\n",
              "       [-0.6552015 , -1.51428383],\n",
              "       [ 0.02051275,  0.31372902],\n",
              "       [ 0.31010458,  0.07785639],\n",
              "       [-0.46214029, -1.13099081],\n",
              "       [-0.75173211, -1.54376791],\n",
              "       [-0.26907907, -0.65924556],\n",
              "       [-1.13785454,  0.49063349],\n",
              "       [-0.07601785,  2.20071003],\n",
              "       [ 0.02051275,  0.04837232],\n",
              "       [-1.13785454, -1.57325199],\n",
              "       [ 1.08234944,  0.54960165],\n",
              "       [-0.26907907, -1.24892713],\n",
              "       [ 1.37194127, -0.92460227],\n",
              "       [-1.42744637, -1.21944305],\n",
              "       [-0.94479333, -0.95408634],\n",
              "       [ 1.95112492, -0.65924556],\n",
              "       [ 0.88928823, -0.57079333],\n",
              "       [-1.13785454,  0.31372902],\n",
              "       [ 0.02051275, -0.24646847],\n",
              "       [ 0.79275762, -1.39634752],\n",
              "       [-0.26907907, -0.36440478],\n",
              "       [ 0.88928823,  1.2867036 ],\n",
              "       [ 0.31010458, -0.18750031],\n",
              "       [-0.26907907, -0.57079333],\n",
              "       [-0.26907907, -1.39634752],\n",
              "       [ 1.46847188, -1.04253858],\n",
              "       [-0.07601785,  0.13682455],\n",
              "       [-0.84826272, -0.65924556],\n",
              "       [-0.07601785,  0.01888824],\n",
              "       [-0.26907907,  0.10734047],\n",
              "       [ 0.21357397, -0.30543662],\n",
              "       [-0.26907907,  0.28424494],\n",
              "       [ 0.11704336,  0.04837232],\n",
              "       [ 1.95112492,  2.20071003],\n",
              "       [-1.04132394, -1.45531567],\n",
              "       [ 0.31010458,  0.31372902],\n",
              "       [ 2.04765553, -1.18995897],\n",
              "       [-1.13785454, -0.51182517],\n",
              "       [ 0.21357397,  0.16630863],\n",
              "       [-0.26907907, -0.92460227],\n",
              "       [-0.6552015 ,  0.04837232],\n",
              "       [ 0.21357397,  0.07785639],\n",
              "       [ 0.40663519, -0.12853215],\n",
              "       [-1.13785454, -1.10150673],\n",
              "       [-0.07601785,  2.25967818],\n",
              "       [ 1.08234944, -0.12853215],\n",
              "       [ 0.88928823,  1.05083098],\n",
              "       [-0.07601785,  0.28424494],\n",
              "       [-0.5586709 , -1.51428383],\n",
              "       [-1.13785454, -1.0130545 ],\n",
              "       [-0.75173211,  1.37515584],\n",
              "       [ 1.08234944,  0.57908572],\n",
              "       [ 1.56500249, -1.2784112 ],\n",
              "       [ 0.69622701, -1.39634752],\n",
              "       [-0.6552015 , -1.04253858],\n",
              "       [ 1.17888005,  0.54960165],\n",
              "       [-0.26907907, -1.45531567],\n",
              "       [-1.62050759,  0.54960165],\n",
              "       [-1.04132394, -1.13099081],\n",
              "       [-0.07601785,  0.04837232],\n",
              "       [ 0.31010458,  0.07785639],\n",
              "       [ 0.88928823, -1.36686344],\n",
              "       [-1.04132394, -0.3349207 ],\n",
              "       [-1.8135688 ,  0.19579271],\n",
              "       [-1.8135688 , -1.4258316 ],\n",
              "       [ 0.69622701,  1.81741701],\n",
              "       [-0.07601785,  0.31372902],\n",
              "       [-1.62050759,  0.07785639],\n",
              "       [-0.6552015 ,  1.43412399],\n",
              "       [-0.26907907, -0.24646847],\n",
              "       [-0.36560968,  1.34567176],\n",
              "       [ 0.5031658 ,  1.25721952],\n",
              "       [-0.6552015 ,  0.19579271],\n",
              "       [-1.52397698, -0.42337294],\n",
              "       [-1.04132394,  0.43166533],\n",
              "       [ 0.79275762,  0.28424494],\n",
              "       [ 1.95112492, -0.92460227],\n",
              "       [ 0.79275762, -0.30543662],\n",
              "       [ 0.21357397,  0.25476086],\n",
              "       [-1.71703819, -0.60027741],\n",
              "       [-0.26907907,  0.16630863],\n",
              "       [-1.33091576, -1.24892713],\n",
              "       [-0.26907907, -0.42337294],\n",
              "       [ 0.11704336,  0.10734047],\n",
              "       [-0.94479333,  0.46114941],\n",
              "       [ 2.04765553,  0.40218125],\n",
              "       [-1.91009941,  0.37269718],\n",
              "       [ 2.04765553, -0.80666595],\n",
              "       [ 2.14418614,  1.13928321],\n",
              "       [ 0.79275762, -1.21944305],\n",
              "       [ 0.40663519, -0.45285701],\n",
              "       [ 0.02051275, -0.24646847],\n",
              "       [ 1.46847188,  0.37269718],\n",
              "       [-0.17254846, -0.57079333],\n",
              "       [ 0.21357397, -0.24646847],\n",
              "       [-0.46214029,  2.34813042],\n",
              "       [ 0.11704336,  0.22527679],\n",
              "       [ 0.21357397, -0.65924556],\n",
              "       [ 0.98581884, -1.07202266],\n",
              "       [-0.17254846,  0.16630863],\n",
              "       [-0.07601785,  0.31372902],\n",
              "       [ 0.40663519, -0.48234109],\n",
              "       [-0.36560968, -1.30789528],\n",
              "       [ 0.88928823, -0.77718187],\n",
              "       [-0.94479333,  0.43166533],\n",
              "       [-0.07601785, -0.42337294],\n",
              "       [-0.94479333, -0.42337294],\n",
              "       [-1.8135688 ,  0.46114941],\n",
              "       [-0.84826272, -1.21944305],\n",
              "       [-0.94479333, -0.30543662],\n",
              "       [ 0.98581884,  0.78547427],\n",
              "       [-1.62050759, -0.04007992],\n",
              "       [-1.04132394, -0.3349207 ],\n",
              "       [ 0.02051275, -0.54130925],\n",
              "       [-0.6552015 , -0.3349207 ],\n",
              "       [-1.13785454, -1.54376791],\n",
              "       [ 1.95112492, -1.36686344],\n",
              "       [-0.6552015 , -1.60273606],\n",
              "       [ 0.21357397, -0.36440478],\n",
              "       [ 0.88928823,  2.20071003],\n",
              "       [ 1.17888005, -0.98357042],\n",
              "       [-0.17254846, -0.51182517],\n",
              "       [ 1.66153309,  1.78793293],\n",
              "       [ 1.08234944, -1.21944305],\n",
              "       [ 0.02051275,  1.2867036 ],\n",
              "       [-0.46214029, -0.27595254],\n",
              "       [ 1.66153309, -0.89511819],\n",
              "       [ 0.31010458,  0.52011757],\n",
              "       [-1.04132394, -1.54376791],\n",
              "       [ 1.56500249,  1.13928321],\n",
              "       [-1.52397698,  0.3432131 ],\n",
              "       [ 0.02051275, -0.12853215],\n",
              "       [ 0.11704336, -0.80666595],\n",
              "       [ 0.21357397,  1.10979913],\n",
              "       [ 0.40663519, -0.15801623],\n",
              "       [-0.46214029, -0.01059584],\n",
              "       [ 1.08234944,  2.11225779],\n",
              "       [-0.26907907, -0.12853215],\n",
              "       [-0.75173211, -0.60027741],\n",
              "       [ 1.17888005, -1.45531567],\n",
              "       [-1.42744637, -1.45531567],\n",
              "       [ 1.85459431, -0.27595254],\n",
              "       [ 1.85459431,  0.13682455],\n",
              "       [ 0.40663519,  0.16630863],\n",
              "       [ 1.27541066, -1.36686344],\n",
              "       [-0.46214029, -1.21944305],\n",
              "       [-0.75173211,  1.93535332],\n",
              "       [-0.26907907,  1.13928321],\n",
              "       [ 0.02051275, -0.57079333],\n",
              "       [ 0.21357397, -0.12853215],\n",
              "       [-0.5586709 ,  1.93535332],\n",
              "       [-0.94479333,  0.28424494],\n",
              "       [-1.91009941,  0.49063349],\n",
              "       [-1.33091576,  0.57908572],\n",
              "       [ 0.21357397,  0.16630863],\n",
              "       [ 1.37194127, -1.4258316 ],\n",
              "       [-0.07601785,  0.69702204],\n",
              "       [ 0.11704336,  1.90586924],\n",
              "       [-1.71703819, -0.98357042],\n",
              "       [ 0.21357397, -0.36440478],\n",
              "       [-1.8135688 , -1.30789528],\n",
              "       [ 0.79275762,  0.54960165],\n",
              "       [-0.17254846,  1.43412399],\n",
              "       [-1.04132394,  0.57908572],\n",
              "       [-1.23438515, -1.07202266],\n",
              "       [ 1.37194127,  2.02380556],\n",
              "       [ 0.79275762, -1.10150673],\n",
              "       [ 0.79275762,  0.13682455],\n",
              "       [-1.8135688 , -1.2784112 ],\n",
              "       [ 0.02051275,  1.25721952],\n",
              "       [ 0.88928823, -0.60027741],\n",
              "       [ 2.14418614,  0.40218125],\n",
              "       [ 2.14418614, -0.80666595],\n",
              "       [ 0.98581884, -1.07202266],\n",
              "       [ 0.11704336,  1.55206031],\n",
              "       [-0.94479333,  0.52011757],\n",
              "       [-1.23438515,  0.28424494],\n",
              "       [ 0.40663519,  0.6085698 ],\n",
              "       [ 0.11704336,  0.16630863],\n",
              "       [ 0.21357397,  0.04837232],\n",
              "       [ 2.04765553,  2.17122595],\n",
              "       [-0.07601785, -0.36440478],\n",
              "       [-0.26907907,  0.81495835],\n",
              "       [-1.42744637, -0.18750031],\n",
              "       [ 1.08234944,  0.13682455],\n",
              "       [ 0.31010458,  0.07785639],\n",
              "       [ 0.11704336,  0.04837232],\n",
              "       [ 0.98581884, -1.0130545 ],\n",
              "       [-0.5586709 ,  1.49309215],\n",
              "       [-1.13785454, -1.60273606],\n",
              "       [ 1.27541066,  2.25967818],\n",
              "       [-1.42744637, -0.09904808],\n",
              "       [-1.8135688 , -1.48479975],\n",
              "       [ 0.88928823, -1.16047489],\n",
              "       [ 2.14418614, -0.68872964],\n",
              "       [ 0.5996964 , -0.89511819],\n",
              "       [-1.23438515, -1.39634752],\n",
              "       [-0.46214029, -0.83615003],\n",
              "       [-0.84826272, -0.24646847],\n",
              "       [ 1.46847188,  2.17122595],\n",
              "       [ 0.40663519,  1.0213469 ],\n",
              "       [ 0.02051275, -0.42337294],\n",
              "       [-1.13785454, -1.16047489],\n",
              "       [-0.75173211,  0.57908572],\n",
              "       [ 0.11704336,  1.08031505],\n",
              "       [-0.5586709 ,  1.40463991],\n",
              "       [ 0.11704336,  1.90586924],\n",
              "       [ 0.21357397,  2.14174187],\n",
              "       [ 1.46847188,  1.0213469 ],\n",
              "       [-1.71703819,  0.13682455],\n",
              "       [-0.26907907, -0.48234109],\n",
              "       [ 0.11704336,  0.78547427],\n",
              "       [ 0.88928823, -1.30789528],\n",
              "       [-0.26907907, -0.27595254],\n",
              "       [ 2.14418614, -1.04253858],\n",
              "       [ 0.40663519,  0.31372902],\n",
              "       [-0.17254846,  1.64051254],\n",
              "       [ 0.79275762, -0.83615003],\n",
              "       [-0.94479333,  1.58154438],\n",
              "       [ 0.11704336, -0.24646847],\n",
              "       [-1.23438515,  0.52011757],\n",
              "       [ 0.11704336, -0.80666595],\n",
              "       [ 1.08234944, -0.98357042],\n",
              "       [ 0.98581884,  1.81741701],\n",
              "       [-1.42744637, -0.62976148],\n",
              "       [ 0.98581884, -1.18995897],\n",
              "       [-1.33091576, -0.42337294],\n",
              "       [ 0.31010458,  0.07785639],\n",
              "       [-0.26907907, -0.57079333],\n",
              "       [-0.75173211,  1.10979913],\n",
              "       [ 1.56500249,  1.0213469 ],\n",
              "       [-1.04132394,  0.6085698 ],\n",
              "       [ 0.40663519,  0.10734047],\n",
              "       [-0.94479333, -0.30543662],\n",
              "       [ 1.17888005, -0.7476978 ],\n",
              "       [-1.91009941, -0.51182517],\n",
              "       [ 1.08234944, -1.21944305],\n",
              "       [ 0.31010458,  0.28424494],\n",
              "       [-0.75173211, -1.60273606],\n",
              "       [-0.26907907, -1.30789528],\n",
              "       [-0.26907907,  0.54960165],\n",
              "       [ 0.98581884,  1.90586924],\n",
              "       [-0.6552015 , -0.09904808],\n",
              "       [-0.46214029,  1.2867036 ],\n",
              "       [ 0.31010458, -0.51182517],\n",
              "       [ 1.85459431,  1.55206031],\n",
              "       [ 1.08234944,  0.49063349],\n",
              "       [ 2.04765553,  0.19579271],\n",
              "       [-1.71703819,  0.37269718],\n",
              "       [-0.17254846, -0.18750031],\n",
              "       [-0.6552015 ,  0.57908572],\n",
              "       [ 1.37194127,  1.31618768],\n",
              "       [ 1.08234944, -0.89511819],\n",
              "       [ 1.85459431, -1.07202266],\n",
              "       [-0.75173211,  0.52011757],\n",
              "       [-1.33091576, -1.10150673],\n",
              "       [ 0.79275762,  0.37269718],\n",
              "       [-0.84826272,  0.40218125],\n",
              "       [-0.75173211,  0.31372902],\n",
              "       [-1.04132394,  1.99432148],\n",
              "       [-0.07601785,  0.07785639],\n",
              "       [ 1.37194127,  2.3776145 ],\n",
              "       [-0.07601785,  0.16630863],\n",
              "       [-0.07601785,  1.99432148],\n",
              "       [-0.75173211,  0.28424494],\n",
              "       [-1.13785454,  0.3432131 ],\n",
              "       [ 0.31010458, -0.27595254],\n",
              "       [ 0.98581884, -1.16047489],\n",
              "       [ 1.37194127,  0.6085698 ],\n",
              "       [-1.52397698, -1.51428383],\n",
              "       [-0.94479333, -0.7476978 ],\n",
              "       [-1.13785454,  0.07785639],\n",
              "       [ 0.40663519, -0.45285701],\n",
              "       [-1.91009941, -0.7476978 ],\n",
              "       [ 0.40663519,  0.28424494],\n",
              "       [-0.26907907,  0.22527679],\n",
              "       [-0.5586709 ,  0.49063349],\n",
              "       [-0.36560968, -0.77718187],\n",
              "       [-0.26907907,  0.04837232],\n",
              "       [-0.07601785,  0.22527679],\n",
              "       [-0.26907907,  0.16630863],\n",
              "       [ 0.31010458, -0.54130925],\n",
              "       [ 0.79275762,  0.78547427],\n",
              "       [ 0.98581884,  2.02380556],\n",
              "       [-0.17254846, -0.27595254],\n",
              "       [-1.04132394, -0.45285701],\n",
              "       [-0.26907907, -0.3349207 ],\n",
              "       [ 0.11704336, -0.30543662],\n",
              "       [-0.26907907, -0.7476978 ],\n",
              "       [-0.07601785, -1.07202266],\n",
              "       [-0.26907907,  0.07785639],\n",
              "       [ 0.5031658 ,  1.75844885],\n",
              "       [-0.36560968,  1.25721952],\n",
              "       [ 0.79275762,  1.40463991],\n",
              "       [ 0.98581884, -0.83615003],\n",
              "       [-1.71703819, -1.36686344],\n",
              "       [-0.84826272,  0.31372902],\n",
              "       [-0.84826272,  2.31864634]])"
            ]
          },
          "metadata": {},
          "execution_count": 69
        }
      ]
    },
    {
      "cell_type": "markdown",
      "metadata": {
        "id": "_VB4b09roPhq"
      },
      "source": [
        "**Fitting Decision Tree Classification to the Training set**"
      ]
    },
    {
      "cell_type": "code",
      "metadata": {
        "id": "0UxhDc2lnqKu",
        "colab": {
          "base_uri": "https://localhost:8080/"
        },
        "outputId": "47e584c5-74be-44d3-f1a8-8be184598a7a"
      },
      "source": [
        "model=DecisionTreeClassifier(criterion='entropy',random_state=0)\n",
        "\n",
        "model.fit(x_train,y_train)\n",
        "\n"
      ],
      "execution_count": 70,
      "outputs": [
        {
          "output_type": "execute_result",
          "data": {
            "text/plain": [
              "DecisionTreeClassifier(criterion='entropy', random_state=0)"
            ]
          },
          "metadata": {},
          "execution_count": 70
        }
      ]
    },
    {
      "cell_type": "code",
      "source": [
        ""
      ],
      "metadata": {
        "id": "lO2jAJukoxUK"
      },
      "execution_count": 70,
      "outputs": []
    },
    {
      "cell_type": "markdown",
      "metadata": {
        "id": "XOl6_ERWoYh2"
      },
      "source": [
        "**Predicting the Test set results**"
      ]
    },
    {
      "cell_type": "code",
      "metadata": {
        "id": "7xFCuAXjnqPN"
      },
      "source": [
        "predict_test=model.predict(x_test)\n"
      ],
      "execution_count": 71,
      "outputs": []
    },
    {
      "cell_type": "markdown",
      "metadata": {
        "id": "pqaQ_HTZogaZ"
      },
      "source": [
        "**Making the Confusion Matrix**"
      ]
    },
    {
      "cell_type": "code",
      "metadata": {
        "id": "DdqNOMK8nqSs",
        "colab": {
          "base_uri": "https://localhost:8080/"
        },
        "outputId": "1ef50e67-8f33-4eeb-ddf3-0740f740191a"
      },
      "source": [
        "confusion_mat=confusion_matrix(y_test,predict_test)\n",
        "confusion_mat"
      ],
      "execution_count": 72,
      "outputs": [
        {
          "output_type": "execute_result",
          "data": {
            "text/plain": [
              "array([[43,  5],\n",
              "       [ 6, 26]])"
            ]
          },
          "metadata": {},
          "execution_count": 72
        }
      ]
    },
    {
      "cell_type": "code",
      "source": [
        "#classification Report\n",
        "\n",
        "classification_report(y_test,predict_test)"
      ],
      "metadata": {
        "colab": {
          "base_uri": "https://localhost:8080/",
          "height": 90
        },
        "id": "oFitcjQXpi3A",
        "outputId": "2b5fa568-f191-433f-b874-56ae7ef5297a"
      },
      "execution_count": 73,
      "outputs": [
        {
          "output_type": "execute_result",
          "data": {
            "text/plain": [
              "'              precision    recall  f1-score   support\\n\\n           0       0.88      0.90      0.89        48\\n           1       0.84      0.81      0.83        32\\n\\n    accuracy                           0.86        80\\n   macro avg       0.86      0.85      0.86        80\\nweighted avg       0.86      0.86      0.86        80\\n'"
            ],
            "application/vnd.google.colaboratory.intrinsic+json": {
              "type": "string"
            }
          },
          "metadata": {},
          "execution_count": 73
        }
      ]
    },
    {
      "cell_type": "code",
      "source": [
        "print(accuracy_score(y_test,predict_test))"
      ],
      "metadata": {
        "colab": {
          "base_uri": "https://localhost:8080/"
        },
        "id": "ljbyVOTWqfrT",
        "outputId": "4da804b1-d411-4bde-a186-e2199c9e418d"
      },
      "execution_count": 74,
      "outputs": [
        {
          "output_type": "stream",
          "name": "stdout",
          "text": [
            "0.8625\n"
          ]
        }
      ]
    },
    {
      "cell_type": "code",
      "source": [
        "print(roc_auc_score(y_test,predict_test))"
      ],
      "metadata": {
        "colab": {
          "base_uri": "https://localhost:8080/"
        },
        "id": "OaR0Cja-qqgp",
        "outputId": "e11c23cd-5edf-4e7b-f15c-b6f374f75888"
      },
      "execution_count": 75,
      "outputs": [
        {
          "output_type": "stream",
          "name": "stdout",
          "text": [
            "0.8541666666666667\n"
          ]
        }
      ]
    },
    {
      "cell_type": "code",
      "source": [
        "sns.set()\n",
        "\n",
        "sns.heatmap(data=confusion_mat,annot=True,fmt='d',cmap='Greens')\n",
        "plt.title('Confusion_matrix')\n",
        "plt.xlabel('predicted ')\n",
        "plt.ylabel('actual label')\n",
        "plt.show()\n"
      ],
      "metadata": {
        "colab": {
          "base_uri": "https://localhost:8080/",
          "height": 301
        },
        "id": "rMHC0qQjq9i4",
        "outputId": "41d68959-9efc-414c-87d8-a27c1766f886"
      },
      "execution_count": 76,
      "outputs": [
        {
          "output_type": "display_data",
          "data": {
            "text/plain": [
              "<Figure size 432x288 with 2 Axes>"
            ],
            "image/png": "[encoded data removed]"
          },
          "metadata": {}
        }
      ]
    },
    {
      "cell_type": "markdown",
      "metadata": {
        "id": "Ko5EDqqiopBl"
      },
      "source": [
        "**Visualising the Training set results**"
      ]
    },
    {
      "cell_type": "code",
      "source": [
        "x_train"
      ],
      "metadata": {
        "colab": {
          "base_uri": "https://localhost:8080/",
          "height": 424
        },
        "id": "KqeAZSATvUSk",
        "outputId": "85ed6ca9-40f8-42fe-bf7d-45529d696cfc"
      },
      "execution_count": 77,
      "outputs": [
        {
          "output_type": "execute_result",
          "data": {
            "text/plain": [
              "     Age  EstimatedSalary\n",
              "205   47            47000\n",
              "354   36            99000\n",
              "3     27            57000\n",
              "264   48            90000\n",
              "194   28            89000\n",
              "..   ...              ...\n",
              "299   46           117000\n",
              "22    48            41000\n",
              "72    20            23000\n",
              "15    29            80000\n",
              "168   29           148000\n",
              "\n",
              "[320 rows x 2 columns]"
            ],
            "text/html": [
              "\n",
              "  <div id=\"df-55f916e1-05b7-4254-b3af-45f242c84eeb\">\n",
              "    <div class=\"colab-df-container\">\n",
              "      <div>\n",
              "<style scoped>\n",
              "    .dataframe tbody tr th:only-of-type {\n",
              "        vertical-align: middle;\n",
              "    }\n",
              "\n",
              "    .dataframe tbody tr th {\n",
              "        vertical-align: top;\n",
              "    }\n",
              "\n",
              "    .dataframe thead th {\n",
              "        text-align: right;\n",
              "    }\n",
              "</style>\n",
              "<table border=\"1\" class=\"dataframe\">\n",
              "  <thead>\n",
              "    <tr style=\"text-align: right;\">\n",
              "      <th></th>\n",
              "      <th>Age</th>\n",
              "      <th>EstimatedSalary</th>\n",
              "    </tr>\n",
              "  </thead>\n",
              "  <tbody>\n",
              "    <tr>\n",
              "      <th>205</th>\n",
              "      <td>47</td>\n",
              "      <td>47000</td>\n",
              "    </tr>\n",
              "    <tr>\n",
              "      <th>354</th>\n",
              "      <td>36</td>\n",
              "      <td>99000</td>\n",
              "    </tr>\n",
              "    <tr>\n",
              "      <th>3</th>\n",
              "      <td>27</td>\n",
              "      <td>57000</td>\n",
              "    </tr>\n",
              "    <tr>\n",
              "      <th>264</th>\n",
              "      <td>48</td>\n",
              "      <td>90000</td>\n",
              "    </tr>\n",
              "    <tr>\n",
              "      <th>194</th>\n",
              "      <td>28</td>\n",
              "      <td>89000</td>\n",
              "    </tr>\n",
              "    <tr>\n",
              "      <th>...</th>\n",
              "      <td>...</td>\n",
              "      <td>...</td>\n",
              "    </tr>\n",
              "    <tr>\n",
              "      <th>299</th>\n",
              "      <td>46</td>\n",
              "      <td>117000</td>\n",
              "    </tr>\n",
              "    <tr>\n",
              "      <th>22</th>\n",
              "      <td>48</td>\n",
              "      <td>41000</td>\n",
              "    </tr>\n",
              "    <tr>\n",
              "      <th>72</th>\n",
              "      <td>20</td>\n",
              "      <td>23000</td>\n",
              "    </tr>\n",
              "    <tr>\n",
              "      <th>15</th>\n",
              "      <td>29</td>\n",
              "      <td>80000</td>\n",
              "    </tr>\n",
              "    <tr>\n",
              "      <th>168</th>\n",
              "      <td>29</td>\n",
              "      <td>148000</td>\n",
              "    </tr>\n",
              "  </tbody>\n",
              "</table>\n",
              "<p>320 rows × 2 columns</p>\n",
              "</div>\n",
              "      <button class=\"colab-df-convert\" onclick=\"convertToInteractive('df-55f916e1-05b7-4254-b3af-45f242c84eeb')\"\n",
              "              title=\"Convert this dataframe to an interactive table.\"\n",
              "              style=\"display:none;\">\n",
              "        \n",
              "  <svg xmlns=\"http://www.w3.org/2000/svg\" height=\"24px\"viewBox=\"0 0 24 24\"\n",
              "       width=\"24px\">\n",
              "    <path d=\"M0 0h24v24H0V0z\" fill=\"none\"/>\n",
              "    <path d=\"M18.56 5.44l.94 2.06.94-2.06 2.06-.94-2.06-.94-.94-2.06-.94 2.06-2.06.94zm-11 1L8.5 8.5l.94-2.06 2.06-.94-2.06-.94L8.5 2.5l-.94 2.06-2.06.94zm10 10l.94 2.06.94-2.06 2.06-.94-2.06-.94-.94-2.06-.94 2.06-2.06.94z\"/><path d=\"M17.41 7.96l-1.37-1.37c-.4-.4-.92-.59-1.43-.59-.52 0-1.04.2-1.43.59L10.3 9.45l-7.72 7.72c-.78.78-.78 2.05 0 2.83L4 21.41c.39.39.9.59 1.41.59.51 0 1.02-.2 1.41-.59l7.78-7.78 2.81-2.81c.8-.78.8-2.07 0-2.86zM5.41 20L4 18.59l7.72-7.72 1.47 1.35L5.41 20z\"/>\n",
              "  </svg>\n",
              "      </button>\n",
              "      \n",
              "  <style>\n",
              "    .colab-df-container {\n",
              "      display:flex;\n",
              "      flex-wrap:wrap;\n",
              "      gap: 12px;\n",
              "    }\n",
              "\n",
              "    .colab-df-convert {\n",
              "      background-color: #E8F0FE;\n",
              "      border: none;\n",
              "      border-radius: 50%;\n",
              "      cursor: pointer;\n",
              "      display: none;\n",
              "      fill: #1967D2;\n",
              "      height: 32px;\n",
              "      padding: 0 0 0 0;\n",
              "      width: 32px;\n",
              "    }\n",
              "\n",
              "    .colab-df-convert:hover {\n",
              "      background-color: #E2EBFA;\n",
              "      box-shadow: 0px 1px 2px rgba(60, 64, 67, 0.3), 0px 1px 3px 1px rgba(60, 64, 67, 0.15);\n",
              "      fill: #174EA6;\n",
              "    }\n",
              "\n",
              "    [theme=dark] .colab-df-convert {\n",
              "      background-color: #3B4455;\n",
              "      fill: #D2E3FC;\n",
              "    }\n",
              "\n",
              "    [theme=dark] .colab-df-convert:hover {\n",
              "      background-color: #434B5C;\n",
              "      box-shadow: 0px 1px 3px 1px rgba(0, 0, 0, 0.15);\n",
              "      filter: drop-shadow(0px 1px 2px rgba(0, 0, 0, 0.3));\n",
              "      fill: #FFFFFF;\n",
              "    }\n",
              "  </style>\n",
              "\n",
              "      <script>\n",
              "        const buttonEl =\n",
              "          document.querySelector('#df-55f916e1-05b7-4254-b3af-45f242c84eeb button.colab-df-convert');\n",
              "        buttonEl.style.display =\n",
              "          google.colab.kernel.accessAllowed ? 'block' : 'none';\n",
              "\n",
              "        async function convertToInteractive(key) {\n",
              "          const element = document.querySelector('#df-55f916e1-05b7-4254-b3af-45f242c84eeb');\n",
              "          const dataTable =\n",
              "            await google.colab.kernel.invokeFunction('convertToInteractive',\n",
              "                                                     [key], {});\n",
              "          if (!dataTable) return;\n",
              "\n",
              "          const docLinkHtml = 'Like what you see? Visit the ' +\n",
              "            '<a target=\"_blank\" href=https://colab.research.google.com/notebooks/data_table.ipynb>data table notebook</a>'\n",
              "            + ' to learn more about interactive tables.';\n",
              "          element.innerHTML = '';\n",
              "          dataTable['output_type'] = 'display_data';\n",
              "          await google.colab.output.renderOutput(dataTable, element);\n",
              "          const docLink = document.createElement('div');\n",
              "          docLink.innerHTML = docLinkHtml;\n",
              "          element.appendChild(docLink);\n",
              "        }\n",
              "      </script>\n",
              "    </div>\n",
              "  </div>\n",
              "  "
            ]
          },
          "metadata": {},
          "execution_count": 77
        }
      ]
    },
    {
      "cell_type": "code",
      "metadata": {
        "id": "y7C-xZjFnqVC",
        "colab": {
          "base_uri": "https://localhost:8080/",
          "height": 505
        },
        "outputId": "c012c8d7-5245-403b-d0dc-39502f0b3b6a"
      },
      "source": [
        "from mlxtend.plotting import plot_decision_regions\n",
        "plt.figure(figsize=(7,6))\n",
        "plot_decision_regions(np.asarray(x_train),y_train.values,clf=model,legend=2)\n",
        "plt.xlabel(x.columns[0],size=14)\n",
        "plt.ylabel(x.columns[1],size=14)\n",
        "plt.title('Decision Tree Classifier\\'s Decision Region Boundary', size=14)\n",
        "plt.show()"
      ],
      "execution_count": 80,
      "outputs": [
        {
          "output_type": "stream",
          "name": "stderr",
          "text": [
            "/usr/local/lib/python3.7/dist-packages/sklearn/base.py:451: UserWarning: X does not have valid feature names, but DecisionTreeClassifier was fitted with feature names\n",
            "  \"X does not have valid feature names, but\"\n",
            "/usr/local/lib/python3.7/dist-packages/mlxtend/plotting/decision_regions.py:244: MatplotlibDeprecationWarning: Passing unsupported keyword arguments to axis() will raise a TypeError in 3.3.\n",
            "  ax.axis(xmin=xx.min(), xmax=xx.max(), y_min=yy.min(), y_max=yy.max())\n"
          ]
        },
        {
          "output_type": "display_data",
          "data": {
            "text/plain": [
              "<Figure size 504x432 with 1 Axes>"
            ],
            "image/png": "[encoded data removed]"
          },
          "metadata": {}
        }
      ]
    },
    {
      "cell_type": "markdown",
      "metadata": {
        "id": "ExFSX84Hou9C"
      },
      "source": [
        "**Visualising the Test set results**"
      ]
    },
    {
      "cell_type": "code",
      "metadata": {
        "id": "zHbPz86Noj6d",
        "colab": {
          "base_uri": "https://localhost:8080/",
          "height": 505
        },
        "outputId": "e24f045e-7510-4e5a-9088-7c06363fd945"
      },
      "source": [
        "from mlxtend.plotting import plot_decision_regions\n",
        "plt.figure(figsize=(7,6))\n",
        "plot_decision_regions(np.asarray(x_test),y_test.values,clf=model,legend=2)\n",
        "plt.xlabel(x.columns[0],size=14)\n",
        "plt.ylabel(x.columns[1],size=14)\n",
        "plt.title('Decision Tree Classifier\\'s Decision Region Boundary', size=14)\n",
        "plt.show()"
      ],
      "execution_count": 81,
      "outputs": [
        {
          "output_type": "stream",
          "name": "stderr",
          "text": [
            "/usr/local/lib/python3.7/dist-packages/sklearn/base.py:451: UserWarning: X does not have valid feature names, but DecisionTreeClassifier was fitted with feature names\n",
            "  \"X does not have valid feature names, but\"\n",
            "/usr/local/lib/python3.7/dist-packages/mlxtend/plotting/decision_regions.py:244: MatplotlibDeprecationWarning: Passing unsupported keyword arguments to axis() will raise a TypeError in 3.3.\n",
            "  ax.axis(xmin=xx.min(), xmax=xx.max(), y_min=yy.min(), y_max=yy.max())\n"
          ]
        },
        {
          "output_type": "display_data",
          "data": {
            "text/plain": [
              "<Figure size 504x432 with 1 Axes>"
            ],
            "image/png": "[encoded data removed]"
          },
          "metadata": {}
        }
      ]
    },
    {
      "cell_type": "code",
      "metadata": {
        "id": "Cexs-z2Lo4p0"
      },
      "source": [
        ""
      ],
      "execution_count": null,
      "outputs": []
    },
    {
      "cell_type": "code",
      "metadata": {
        "id": "RjB1Bbi4o4tm"
      },
      "source": [
        ""
      ],
      "execution_count": null,
      "outputs": []
    },
    {
      "cell_type": "code",
      "metadata": {
        "id": "mRqoaIx_o4xV"
      },
      "source": [
        ""
      ],
      "execution_count": null,
      "outputs": []
    },
    {
      "cell_type": "code",
      "metadata": {
        "id": "m__02I84nqYf"
      },
      "source": [
        ""
      ],
      "execution_count": null,
      "outputs": []
    }
  ]
}